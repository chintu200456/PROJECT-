{
  "cells": [
    {
      "cell_type": "code",
      "source": [
        "!pip install praw openai python-dotenv\n"
      ],
      "metadata": {
        "collapsed": true,
        "id": "-rrbDsTbjkWi"
      },
      "execution_count": null,
      "outputs": []
    },
    {
      "cell_type": "code",
      "source": [
        "import os\n",
        "\n",
        "# Set up your Reddit credentials\n",
        "os.environ['REDDIT_CLIENT_ID'] = 'YOUR_REDDIT_CLIENT_ID'\n",
        "os.environ['REDDIT_CLIENT_SECRET'] = 'YOUR_REDDIT_CLIENT_SECRET'\n",
        "os.environ['REDDIT_USER_AGENT'] = 'colab-script/1.0'\n",
        "\n",
        "# Set up your OpenAI API key\n",
        "os.environ['OPENAI_API_KEY'] = 'YOUR_OPENAI_API_KEY'"
      ],
      "metadata": {
        "id": "CP1CcqZ5j0Eu"
      },
      "execution_count": 11,
      "outputs": []
    },
    {
      "cell_type": "code",
      "source": [
        "import os\n",
        "import re\n",
        "import praw\n",
        "import openai\n",
        "\n",
        "def extract_username_from_url(url: str) -> str:\n",
        "    m = re.match(r\"https?://(www\\.)?reddit\\.com/user/([\\w\\-]+)/?\", url)\n",
        "    if not m:\n",
        "        raise ValueError(\"Invalid Reddit user URL.\")\n",
        "    return m.group(2)\n",
        "\n",
        "def get_reddit_instance():\n",
        "    return praw.Reddit(\n",
        "        client_id=os.environ['REDDIT_CLIENT_ID'],\n",
        "        client_secret=os.environ['REDDIT_CLIENT_SECRET'],\n",
        "        user_agent=os.environ['REDDIT_USER_AGENT']\n",
        "    )\n",
        "\n",
        "def fetch_user_data(username: str, post_limit=20, comment_limit=50):\n",
        "    reddit = get_reddit_instance()\n",
        "    redditor = reddit.redditor(username)\n",
        "    posts = []\n",
        "    comments = []\n",
        "\n",
        "    for post in redditor.submissions.new(limit=post_limit):\n",
        "        posts.append({\n",
        "            \"id\": post.id,\n",
        "            \"title\": post.title,\n",
        "            \"text\": post.selftext,\n",
        "            \"subreddit\": str(post.subreddit),\n",
        "            \"url\": f\"https://www.reddit.com{post.permalink}\"\n",
        "        })\n",
        "\n",
        "    for comment in redditor.comments.new(limit=comment_limit):\n",
        "        comments.append({\n",
        "            \"id\": comment.id,\n",
        "            \"body\": comment.body,\n",
        "            \"subreddit\": str(comment.subreddit),\n",
        "            \"url\": f\"https://www.reddit.com{comment.permalink}\"\n",
        "        })\n",
        "\n",
        "    return {\"posts\": posts, \"comments\": comments}\n",
        "\n",
        "def compile_llm_prompt(username, posts, comments):\n",
        "    content_lines = []\n",
        "    content_lines.append(f\"Reddit user: {username}\\n\")\n",
        "    content_lines.append(\"\\n### Recent Posts:\")\n",
        "    for post in posts:\n",
        "        line = f\"[{post['subreddit']}] Title: {post['title']}\\nText: {post['text']}\\nURL: {post['url']}\\n\"\n",
        "        content_lines.append(line)\n",
        "    content_lines.append(\"\\n### Recent Comments:\")\n",
        "    for comment in comments:\n",
        "        line = f\"[{comment['subreddit']}] Comment: {comment['body']}\\nURL: {comment['url']}\\n\"\n",
        "        content_lines.append(line)\n",
        "    content_chunk = \"\\n\".join(content_lines)\n",
        "    prompt = f\"\"\"\n",
        "You are an expert in digital anthropology. Given the following Reddit user's posts and comments, create a detailed user persona for this individual. For each characteristic you give in the persona (such as interests, personality, tone, occupation guesses, etc.), **cite** the post or comment (with its text or relevant excerpt and the provided URL) that supports your inference.\n",
        "\n",
        "Be specific and comprehensive, including:\n",
        "- User display name (if any)\n",
        "- Interests, Hobbies, Favorite topics/subreddits\n",
        "- Style of communication\n",
        "- Evidence of occupation or demographic\n",
        "- Values, beliefs, notable personality traits\n",
        "- Any patterns in posting time or content\n",
        "- Anything else you can reasonably infer\n",
        "\n",
        "Format each attribute like:\n",
        "Trait: Explanation (cite: \"comment/post excerpt...\" —[URL])\n",
        "\n",
        "Here is the Reddit user's content:\n",
        "\n",
        "{content_chunk}\n",
        "\n",
        "--- End of user data ---\n",
        "\"\"\"\n",
        "    return prompt\n",
        "\n",
        "def generate_persona(prompt):\n",
        "    openai.api_key = os.environ['OPENAI_API_KEY']\n",
        "    response = openai.ChatCompletion.create(\n",
        "        model=\"gpt-3.5-turbo\", # or \"gpt-4\" if you have access\n",
        "        messages=[{\"role\": \"user\", \"content\": prompt}],\n",
        "        max_tokens=1200,\n",
        "        temperature=0.3,\n",
        "    )\n",
        "    return response[\"choices\"][0][\"message\"][\"content\"]\n",
        "\n",
        "def save_persona(username, persona_text):\n",
        "    filename = f\"{username}_persona.txt\"\n",
        "    with open(filename, \"w\", encoding=\"utf-8\") as f:\n",
        "        f.write(persona_text)\n",
        "    print(f\"\\nPersona saved to {filename}\")\n"
      ],
      "metadata": {
        "id": "nGd85aDtj3iw"
      },
      "execution_count": 12,
      "outputs": []
    },
    {
      "cell_type": "code",
      "metadata": {
        "id": "75c2a8cf"
      },
      "source": [
        "import os\n",
        "os.environ['REDDIT_CLIENT_ID'] = 'txUxOPtq6nOgmMwX_Asa3Q'\n",
        "os.environ['REDDIT_CLIENT_SECRET'] = 'blG9nqdGAdNiUR59RzXRkQ5LDlxXRg'\n",
        "os.environ['REDDIT_USER_AGENT'] = 'chaitanya-script/0.1 by YogurtclosetOwn2910'\n",
        "\n",
        "\n",
        "# Set up your OpenAI API key\n",
        "os.environ['OPENAI_API_KEY'] = 'YOUR_OPENAI_API_KEY'"
      ],
      "execution_count": 16,
      "outputs": []
    },
    {
      "cell_type": "code",
      "source": [
        "# Provide the Reddit user URL\n",
        "user_url = \"https://www.reddit.com/user/kn0thing/\"\n",
        "\n",
        "# Process\n",
        "username = extract_username_from_url(user_url)\n",
        "print(\"Fetching Reddit data...\")\n",
        "data = fetch_user_data(username)\n",
        "print(f\"Fetched {len(data['posts'])} posts and {len(data['comments'])} comments.\")\n",
        "\n",
        "prompt = compile_llm_prompt(username, data['posts'], data['comments'])\n",
        "\n",
        "print(\"Generating persona (this can take a minute)...\")\n",
        "persona = generate_persona(prompt)\n",
        "\n",
        "# Show and download\n",
        "print(persona)\n",
        "save_persona(username, persona)\n"
      ],
      "metadata": {
        "collapsed": true,
        "id": "LZ6zUvlGoiFr"
      },
      "execution_count": null,
      "outputs": []
    }
  ],
  "metadata": {
    "colab": {
      "name": "Welcome To Colab",
      "toc_visible": true,
      "provenance": []
    },
    "kernelspec": {
      "display_name": "Python 3",
      "name": "python3"
    }
  },
  "nbformat": 4,
  "nbformat_minor": 0
}