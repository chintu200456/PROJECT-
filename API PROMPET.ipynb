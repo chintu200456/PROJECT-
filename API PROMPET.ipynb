{
  "nbformat": 4,
  "nbformat_minor": 0,
  "metadata": {
    "colab": {
      "provenance": []
    },
    "kernelspec": {
      "name": "python3",
      "display_name": "Python 3"
    },
    "language_info": {
      "name": "python"
    }
  },
  "cells": [
    {
      "cell_type": "code",
      "execution_count": null,
      "metadata": {
        "id": "95KchjxQfiOy"
      },
      "outputs": [],
      "source": [
        "You are an expert in digital anthropology. Given the following Reddit user's posts and comments, create a detailed user persona for this individual. For each characteristic you give in the persona (such as interests, personality, tone, occupation guesses, etc.), **cite** the post or comment (with its text or relevant excerpt and the provided URL) that supports your inference.\n",
        "\n",
        "Be specific and comprehensive, including:\n",
        "- User display name (if any)\n",
        "- Interests, Hobbies, Favorite topics/subreddits\n",
        "- Style of communication\n",
        "- Evidence of occupation or demographic\n",
        "- Values, beliefs, notable personality traits\n",
        "- Any patterns in posting time or content\n",
        "- Anything else you can reasonably infer\n",
        "\n",
        "Format each attribute like:\n",
        "Trait: Explanation (cite: \"comment/post excerpt...\" —[URL])\n",
        "\n",
        "Here is the Reddit user's content:\n",
        "\n",
        "...\n",
        "[user posts/comments here]\n",
        "...\n",
        "--- End of user data ---\n"
      ]
    }
  ]
}